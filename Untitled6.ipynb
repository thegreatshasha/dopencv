{
 "cells": [
  {
   "cell_type": "code",
   "execution_count": 2,
   "metadata": {
    "collapsed": false
   },
   "outputs": [
    {
     "ename": "SyntaxError",
     "evalue": "Missing parentheses in call to 'print' (base.py, line 139)",
     "output_type": "error",
     "traceback": [
      "\u001b[0;36m  File \u001b[0;32m\"/usr/local/lib/python3.5/site-packages/SimpleCV/base.py\"\u001b[0;36m, line \u001b[0;32m139\u001b[0m\n\u001b[0;31m    print 'unit test'\u001b[0m\n\u001b[0m                    ^\u001b[0m\n\u001b[0;31mSyntaxError\u001b[0m\u001b[0;31m:\u001b[0m Missing parentheses in call to 'print'\n"
     ]
    }
   ],
   "source": [
    "from SimpleCV import *\n",
    "im = Image(\"/Users/shashwat/Downloads/s58Hl.jpg\")\n",
    "r,g,b = im.splitChannels()\n",
    "cellmask = g.equalize().threshold(90).invert()\n",
    "masksize = cellmask.getGrayNumpy().sum()/255.\n",
    "cellsize = 27*27 # premeasured cell size\n",
    "cellnum = masksize/cellsize\n",
    "print(cellnum)"
   ]
  },
  {
   "cell_type": "code",
   "execution_count": null,
   "metadata": {
    "collapsed": true
   },
   "outputs": [],
   "source": []
  }
 ],
 "metadata": {
  "kernelspec": {
   "display_name": "Python 3",
   "language": "python",
   "name": "python3"
  },
  "language_info": {
   "codemirror_mode": {
    "name": "ipython",
    "version": 3
   },
   "file_extension": ".py",
   "mimetype": "text/x-python",
   "name": "python",
   "nbconvert_exporter": "python",
   "pygments_lexer": "ipython3",
   "version": "3.5.0"
  }
 },
 "nbformat": 4,
 "nbformat_minor": 0
}
